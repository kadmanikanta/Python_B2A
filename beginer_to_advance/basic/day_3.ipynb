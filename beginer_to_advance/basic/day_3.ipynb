{
 "cells": [
  {
   "cell_type": "code",
   "execution_count": null,
   "metadata": {},
   "outputs": [],
   "source": [
    "###Arrays   "
   ]
  },
  {
   "cell_type": "code",
   "execution_count": 4,
   "metadata": {},
   "outputs": [
    {
     "name": "stdout",
     "output_type": "stream",
     "text": [
      "443\n"
     ]
    }
   ],
   "source": [
    "#finding the largest element in python usings arrays\n",
    "\n",
    "\"\"\"\n",
    "Method 1 : Using Iteration\n",
    "Method 2 : Using max() function\n",
    "Method 3 : Using sort() function.\n",
    "\n",
    "\"\"\"\n",
    "\n",
    "\n",
    "\n",
    "a=[1,33,45,443,23,45]\n",
    "max_element=a[0]\n",
    "\n",
    "for i in range(len(a)):\n",
    "\n",
    "    if a[i]>max_element:\n",
    "        max_element = a[i]\n",
    "print(max_element)"
   ]
  },
  {
   "cell_type": "code",
   "execution_count": 5,
   "metadata": {},
   "outputs": [
    {
     "name": "stdout",
     "output_type": "stream",
     "text": [
      "443\n"
     ]
    }
   ],
   "source": [
    "a=[1,33,45,443,23,45]\n",
    "\n",
    "max= a.sort()\n",
    "\n",
    "print(a[-1])"
   ]
  },
  {
   "cell_type": "code",
   "execution_count": 9,
   "metadata": {},
   "outputs": [
    {
     "ename": "TypeError",
     "evalue": "'NoneType' object is not callable",
     "output_type": "error",
     "traceback": [
      "\u001b[1;31m---------------------------------------------------------------------------\u001b[0m",
      "\u001b[1;31mTypeError\u001b[0m                                 Traceback (most recent call last)",
      "Cell \u001b[1;32mIn[9], line 2\u001b[0m\n\u001b[0;32m      1\u001b[0m arr \u001b[38;5;241m=\u001b[39m [\u001b[38;5;241m10\u001b[39m, \u001b[38;5;241m89\u001b[39m, \u001b[38;5;241m9\u001b[39m, \u001b[38;5;241m56\u001b[39m, \u001b[38;5;241m4\u001b[39m, \u001b[38;5;241m80\u001b[39m, \u001b[38;5;241m8\u001b[39m]\n\u001b[1;32m----> 2\u001b[0m a \u001b[38;5;241m=\u001b[39m \u001b[38;5;28;43mmax\u001b[39;49m\u001b[43m(\u001b[49m\u001b[43marr\u001b[49m\u001b[43m)\u001b[49m\n\u001b[0;32m      3\u001b[0m \u001b[38;5;28mprint\u001b[39m(a)\n",
      "\u001b[1;31mTypeError\u001b[0m: 'NoneType' object is not callable"
     ]
    }
   ],
   "source": [
    "arr = [10, 89, 9, 56, 4, 80, 8]\n",
    "a = max(arr)\n",
    "print(a)"
   ]
  },
  {
   "cell_type": "code",
   "execution_count": 12,
   "metadata": {},
   "outputs": [
    {
     "name": "stdout",
     "output_type": "stream",
     "text": [
      "3\n"
     ]
    }
   ],
   "source": [
    "\"\"\"for finding smallest in given array  \"\"\"\n",
    "\n",
    "\n",
    "arr = [3,4,53,23,24,23,5]\n",
    "\n",
    "min_element = arr[0]\n",
    "\n",
    "for i in range(len(arr)):\n",
    "\n",
    "    if arr[i] < min_element:\n",
    "        min_element = arr[i]\n",
    "\n",
    "print(min_element)\n",
    "\n"
   ]
  },
  {
   "cell_type": "code",
   "execution_count": 13,
   "metadata": {},
   "outputs": [
    {
     "name": "stdout",
     "output_type": "stream",
     "text": [
      "3\n"
     ]
    }
   ],
   "source": [
    "arr = [3,4,53,23,24,23,5]\n",
    "\n",
    "arr.sort()\n",
    "\n",
    "print(arr[0])"
   ]
  },
  {
   "cell_type": "code",
   "execution_count": 14,
   "metadata": {},
   "outputs": [
    {
     "name": "stdout",
     "output_type": "stream",
     "text": [
      "3\n"
     ]
    }
   ],
   "source": [
    "arr = [3,4,53,23,24,23,5]\n",
    "\n",
    "print(min(arr))"
   ]
  },
  {
   "cell_type": "code",
   "execution_count": 16,
   "metadata": {},
   "outputs": [
    {
     "name": "stdout",
     "output_type": "stream",
     "text": [
      "53\n",
      "3\n"
     ]
    }
   ],
   "source": [
    "#find smallest and longest\n",
    "\n",
    "arr = [3,4,53,23,24,23,5]\n",
    "min_element = arr[0]\n",
    "max_element=arr[0]\n",
    "for i  in range(len(arr)):\n",
    "    if arr[i] < min_element:\n",
    "        min_element=arr[i]\n",
    "    if arr[i]> max_element:\n",
    "        max_element=arr[i]\n",
    "\n",
    "print(max_element)\n",
    "print(min_element )\n",
    "\n",
    "\n"
   ]
  },
  {
   "cell_type": "code",
   "execution_count": 18,
   "metadata": {},
   "outputs": [
    {
     "name": "stdout",
     "output_type": "stream",
     "text": [
      "11\n"
     ]
    }
   ],
   "source": [
    "\"\"\" Find Second Smallest Element in an Array using Python\n",
    "\"\"\"\n",
    "\n",
    "import math\n",
    "\n",
    "arr = [10, 13, 17, 11, 34, 21]\n",
    "first = math.inf\n",
    "second = math.inf\n",
    "\n",
    "for i in range(len(arr)):\n",
    "\n",
    "    if arr[i]<first:\n",
    "        first=arr[i]\n",
    "for i in range(len(arr)):\n",
    "\n",
    "    if arr[i]!= first and arr[i]< second:\n",
    "        second=arr[i]\n",
    "print(second)\n",
    "\n",
    "\n"
   ]
  },
  {
   "cell_type": "code",
   "execution_count": 20,
   "metadata": {},
   "outputs": [
    {
     "name": "stdout",
     "output_type": "stream",
     "text": [
      "11\n"
     ]
    }
   ],
   "source": [
    "\"\"\"usinng inbulit fubnctions\"\"\"\n",
    "\n",
    "\n",
    "import math \n",
    "\n",
    "arr.sort();\n",
    "print(arr[1])\n"
   ]
  },
  {
   "cell_type": "code",
   "execution_count": 21,
   "metadata": {},
   "outputs": [
    {
     "name": "stdout",
     "output_type": "stream",
     "text": [
      "106\n"
     ]
    }
   ],
   "source": [
    "#calculationg sum of arrays\n",
    "\n",
    "arr = [10, 13, 17, 11, 34, 21]\n",
    "\n",
    "\n",
    "sum=0\n",
    "\n",
    "for i in range(len(arr)):\n",
    "    sum=sum+arr[i]\n",
    "\n",
    "print(sum)"
   ]
  },
  {
   "cell_type": "code",
   "execution_count": 23,
   "metadata": {},
   "outputs": [
    {
     "ename": "TypeError",
     "evalue": "'int' object is not callable",
     "output_type": "error",
     "traceback": [
      "\u001b[1;31m---------------------------------------------------------------------------\u001b[0m",
      "\u001b[1;31mTypeError\u001b[0m                                 Traceback (most recent call last)",
      "Cell \u001b[1;32mIn[23], line 6\u001b[0m\n\u001b[0;32m      1\u001b[0m \u001b[38;5;66;03m#inbulit function\u001b[39;00m\n\u001b[0;32m      4\u001b[0m arr \u001b[38;5;241m=\u001b[39m [\u001b[38;5;241m10\u001b[39m, \u001b[38;5;241m13\u001b[39m, \u001b[38;5;241m17\u001b[39m, \u001b[38;5;241m11\u001b[39m, \u001b[38;5;241m34\u001b[39m, \u001b[38;5;241m21\u001b[39m]\n\u001b[1;32m----> 6\u001b[0m \u001b[38;5;28mprint\u001b[39m(\u001b[38;5;28;43msum\u001b[39;49m\u001b[43m(\u001b[49m\u001b[43marr\u001b[49m\u001b[43m)\u001b[49m)\n",
      "\u001b[1;31mTypeError\u001b[0m: 'int' object is not callable"
     ]
    }
   ],
   "source": [
    "#inbulit function\n",
    "\n",
    "\n",
    "arr = [10, 13, 17, 11, 34, 21]\n",
    "\n",
    "print(sum(arr))"
   ]
  },
  {
   "cell_type": "code",
   "execution_count": 24,
   "metadata": {},
   "outputs": [
    {
     "name": "stdout",
     "output_type": "stream",
     "text": [
      "[21, 34, 11, 17, 13, 10]\n"
     ]
    }
   ],
   "source": [
    "''' reversing array'''\n",
    "arr = [10, 13, 17, 11, 34, 21]\n",
    "\n",
    "reverse = arr[::-1]\n",
    "\n",
    "print(reverse)\n"
   ]
  },
  {
   "cell_type": "code",
   "execution_count": 26,
   "metadata": {},
   "outputs": [
    {
     "name": "stdout",
     "output_type": "stream",
     "text": [
      "[21, 34, 11, 17, 13, 10]\n"
     ]
    }
   ],
   "source": [
    "#inbulit functions\n",
    "\n",
    "arr = [10, 13, 17, 11, 34, 21]\n",
    "\n",
    "arr.reverse()\n",
    "\n",
    "print(arr)"
   ]
  },
  {
   "cell_type": "code",
   "execution_count": 27,
   "metadata": {},
   "outputs": [
    {
     "name": "stdout",
     "output_type": "stream",
     "text": [
      "[50, 40, 30, 20, 10]\n"
     ]
    }
   ],
   "source": [
    "\"\"\"using swapping\"\"\"\n",
    "\n",
    "def reverseList(A, start, end):\n",
    "  while start < end:\n",
    "    A[start], A[end] = A[end], A[start]\n",
    "    start += 1\n",
    "    end -= 1\n",
    "# Driver function to test above function\n",
    "A = [10, 20, 30, 40, 50]\n",
    "reverseList(A, 0, 4)\n",
    "print(A)"
   ]
  },
  {
   "cell_type": "code",
   "execution_count": null,
   "metadata": {},
   "outputs": [],
   "source": []
  }
 ],
 "metadata": {
  "kernelspec": {
   "display_name": "Python 3",
   "language": "python",
   "name": "python3"
  },
  "language_info": {
   "codemirror_mode": {
    "name": "ipython",
    "version": 3
   },
   "file_extension": ".py",
   "mimetype": "text/x-python",
   "name": "python",
   "nbconvert_exporter": "python",
   "pygments_lexer": "ipython3",
   "version": "3.12.0"
  }
 },
 "nbformat": 4,
 "nbformat_minor": 2
}
