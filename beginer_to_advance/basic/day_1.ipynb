{
 "cells": [
  {
   "cell_type": "code",
   "execution_count": 2,
   "metadata": {},
   "outputs": [],
   "source": [
    "#these are the tasks which we are doing today\n",
    "\n",
    "\"\"\"\n",
    "Exercise 1: Accept numbers from a user\n",
    "Exercise 2: Display three string “Name”, “Is”, “James” as “Name**Is**James”\n",
    "Exercise 3: Convert Decimal number to octal using print() output formatting\n",
    "Exercise 4: Display float number with 2 decimal places using print()\n",
    "Exercise 5: Accept a list of 5 float numbers as an input from the user\n",
    "Exercise 6: Write all content of a given file into a new file by skipping line number 5\n",
    "Exercise 7: Accept any three string from one input() call\n",
    "Exercise 8: Format variables using a string.format() method.\n",
    "Exercise 9: Check file is empty or not\n",
    "Exercise 10: Read line number 4 from the following file\n",
    "\n",
    "\"\"\""
   ]
  },
  {
   "cell_type": "code",
   "execution_count": 1,
   "metadata": {},
   "outputs": [
    {
     "name": "stdout",
     "output_type": "stream",
     "text": [
      "15\n"
     ]
    }
   ],
   "source": [
    "#Exercise 1: Accept numbers from a user and also doin some addition\n",
    "\n",
    "a= int(input(\"enter the number  :\"))\n",
    "b = int(input(\"enter the number :\"))\n",
    "\n",
    "add = a+b\n",
    "\n",
    "print(add)\n"
   ]
  },
  {
   "cell_type": "code",
   "execution_count": 3,
   "metadata": {},
   "outputs": [
    {
     "name": "stdout",
     "output_type": "stream",
     "text": [
      "Name**Is**James\n"
     ]
    }
   ],
   "source": [
    "#Exercise 2: Display three string “Name”, “Is”, “James” as “Name**Is**James”\n",
    "\n",
    "print(\"Name\",\"Is\",'James' ,sep=\"**\")"
   ]
  },
  {
   "cell_type": "code",
   "execution_count": 4,
   "metadata": {},
   "outputs": [
    {
     "name": "stdout",
     "output_type": "stream",
     "text": [
      "10\n"
     ]
    }
   ],
   "source": [
    "\n",
    "#Exercise 3: Convert Decimal number to octal using print() output formatting\n",
    "\n",
    "\n",
    "a= int(input(\"enter the number  :\"))\n",
    "\n",
    "print(\"%o\" % a)"
   ]
  },
  {
   "cell_type": "code",
   "execution_count": 7,
   "metadata": {},
   "outputs": [
    {
     "name": "stdout",
     "output_type": "stream",
     "text": [
      "45.00\n"
     ]
    }
   ],
   "source": [
    "#Exercise 4: Display float number with 2 decimal places using print()\n",
    "\n",
    "num = 45.0000\n",
    "deci =(\"%.2f\" % num)\n",
    "print(deci)"
   ]
  },
  {
   "cell_type": "code",
   "execution_count": 12,
   "metadata": {},
   "outputs": [
    {
     "name": "stdout",
     "output_type": "stream",
     "text": [
      "('enter the number at', 0, ':=', [])\n",
      "('enter the number at', 1, ':=', [456.456])\n",
      "('enter the number at', 2, ':=', [456.456, 45644.464])\n",
      "('enter the number at', 3, ':=', [456.456, 45644.464, 457553.353])\n",
      "('enter the number at', 4, ':=', [456.456, 45644.464, 457553.353, 24536.3645])\n",
      "user list [456.456, 45644.464, 457553.353, 24536.3645, 3536464.3466]\n"
     ]
    }
   ],
   "source": [
    "#Exercise 5: Accept a list of 5 float numbers as an input from the user\n",
    "\n",
    "lis = []\n",
    "\n",
    "for i in range(0,5):\n",
    "    print((\"enter the number at\", i ,\":\" \"=\",lis))\n",
    "    item=float(input())\n",
    "    lis.append(item)\n",
    "print(\"user list\",lis)\n",
    "\n",
    "    "
   ]
  },
  {
   "cell_type": "code",
   "execution_count": null,
   "metadata": {},
   "outputs": [],
   "source": [
    "#remaining u can do own bye"
   ]
  },
  {
   "cell_type": "code",
   "execution_count": null,
   "metadata": {},
   "outputs": [],
   "source": []
  }
 ],
 "metadata": {
  "kernelspec": {
   "display_name": "Python 3",
   "language": "python",
   "name": "python3"
  },
  "language_info": {
   "codemirror_mode": {
    "name": "ipython",
    "version": 3
   },
   "file_extension": ".py",
   "mimetype": "text/x-python",
   "name": "python",
   "nbconvert_exporter": "python",
   "pygments_lexer": "ipython3",
   "version": "3.12.0"
  }
 },
 "nbformat": 4,
 "nbformat_minor": 2
}
