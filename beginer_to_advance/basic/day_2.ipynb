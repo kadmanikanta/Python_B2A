{
 "cells": [
  {
   "cell_type": "code",
   "execution_count": null,
   "metadata": {},
   "outputs": [],
   "source": [
    "\"\"\"\n",
    "\n",
    "people can do this code in any  language u want, here im doing in python \n",
    "\n",
    "Positive or Negative number: C | C++ |  Java | Python\n",
    "Even or Odd number: C | C++ | Java | Python\n",
    "Sum of First N Natural numbers:  C | C++ | Java | Python\n",
    "Sum of N natural numbers:  C | C++ | Java | Python\n",
    "Sum of numbers in a given range: C | C++ | Java  | Python\n",
    "Greatest of two numbers: C | C++ | Java | Python\n",
    "Greatest of the Three numbers: C | C++ | Java | Python\n",
    "Leap year or not: C | C++ | Java | Python\n",
    "Prime number: C | C++ | Java | Python\n",
    "Prime number within a given range: C | C++ | Java | Python\n",
    "Sum of digits of a number: C | C++ | Java | Python\n",
    "Reverse of a number : C | C++ | Java | Python\n",
    "Palindrome number: C | C++ | Java | Python\n",
    "Armstrong number : C | C++ | Java | Python\n",
    "Armstrong number in a given range : C | C++ | Java | Python\n",
    "Fibonacci Series upto nth term : C | C++ | Java | Python\n",
    "Find the Nth Term of the Fibonacci Series : C | C++ | Java | Python\n",
    "Factorial of a number : C | C++ | Java | Python\n",
    "Power of a number : C | C++ | Java | Python\n",
    "Factor of a number : C | C++ | Java | Python\n",
    "Finding Prime Factors of a number : C | C++ | Java | Python\n",
    "Strong number : C | C++ | Java | Python\n",
    "Perfect number : C | C++ | Java | Python\n",
    "Perfect Square : C | C++ | Java | Python\n",
    "Automorphic number : C | C++ | Java | Python\n",
    "Harshad number : C | C++ | Java | Python\n",
    "Abundant number : C| C++ | Java | Python\n",
    "Friendly pair : C | C++ |   Java | Python\n",
    "\n",
    "\"\"\"\n"
   ]
  },
  {
   "cell_type": "code",
   "execution_count": 4,
   "metadata": {},
   "outputs": [
    {
     "name": "stdout",
     "output_type": "stream",
     "text": [
      "Zero\n"
     ]
    }
   ],
   "source": [
    "#Positive or Negative number:\n",
    "\n",
    "\n",
    "\"\"\"\n",
    "generally we can do these with many method some are following\n",
    "1.brute force : checking all possible conditions\n",
    "2.using nested if else\n",
    "3.using ternery operators\n",
    "\n",
    " \"\"\"\n",
    "\n",
    "num = int(input(\"enter the number u want : \"))\n",
    "\"\"\"\n",
    "    this 1 st method\n",
    "    \n",
    "if num > 0:\n",
    "    print( \"positive\")\n",
    "elif num<0 :\n",
    "    print( \"negative\")\n",
    "else:\n",
    "    print( \"Zero\")\n",
    "\"\"\"\n",
    "\"\"\"\n",
    "this nested if else method\n",
    "\n",
    "if num>=0:\n",
    "    if num==0:\n",
    "        print('Zero')\n",
    "    else:\n",
    "        print(\"Positive\")\n",
    "else:\n",
    "    print(\"Negative\")\n",
    "\n",
    "\n",
    "\"\"\""
   ]
  },
  {
   "cell_type": "code",
   "execution_count": null,
   "metadata": {},
   "outputs": [],
   "source": []
  }
 ],
 "metadata": {
  "kernelspec": {
   "display_name": "Python 3",
   "language": "python",
   "name": "python3"
  },
  "language_info": {
   "codemirror_mode": {
    "name": "ipython",
    "version": 3
   },
   "file_extension": ".py",
   "mimetype": "text/x-python",
   "name": "python",
   "nbconvert_exporter": "python",
   "pygments_lexer": "ipython3",
   "version": "3.12.0"
  }
 },
 "nbformat": 4,
 "nbformat_minor": 2
}
