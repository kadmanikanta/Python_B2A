{
 "cells": [
  {
   "cell_type": "code",
   "execution_count": null,
   "metadata": {},
   "outputs": [],
   "source": [
    "\"\"\"\n",
    "\n",
    "people can do this code in any  language u want, here im doing in python \n",
    "\n",
    "Positive or Negative number: C | C++ |  Java | Python\n",
    "Even or Odd number: C | C++ | Java | Python\n",
    "Sum of First N Natural numbers:  C | C++ | Java | Python\n",
    "Sum of N natural numbers:  C | C++ | Java | Python\n",
    "Sum of numbers in a given range: C | C++ | Java  | Python\n",
    "Greatest of two numbers: C | C++ | Java | Python\n",
    "Greatest of the Three numbers: C | C++ | Java | Python\n",
    "Leap year or not: C | C++ | Java | Python\n",
    "Prime number: C | C++ | Java | Python\n",
    "Prime number within a given range: C | C++ | Java | Python\n",
    "Sum of digits of a number: C | C++ | Java | Python\n",
    "Reverse of a number : C | C++ | Java | Python\n",
    "Palindrome number: C | C++ | Java | Python\n",
    "Armstrong number : C | C++ | Java | Python\n",
    "Armstrong number in a given range : C | C++ | Java | Python\n",
    "Fibonacci Series upto nth term : C | C++ | Java | Python\n",
    "Find the Nth Term of the Fibonacci Series : C | C++ | Java | Python\n",
    "Factorial of a number : C | C++ | Java | Python\n",
    "Power of a number : C | C++ | Java | Python\n",
    "Factor of a number : C | C++ | Java | Python\n",
    "Finding Prime Factors of a number : C | C++ | Java | Python\n",
    "Strong number : C | C++ | Java | Python\n",
    "Perfect number : C | C++ | Java | Python\n",
    "Perfect Square : C | C++ | Java | Python\n",
    "Automorphic number : C | C++ | Java | Python\n",
    "Harshad number : C | C++ | Java | Python\n",
    "Abundant number : C| C++ | Java | Python\n",
    "Friendly pair : C | C++ |   Java | Python\n",
    "\n",
    "\"\"\"\n"
   ]
  },
  {
   "cell_type": "code",
   "execution_count": 4,
   "metadata": {},
   "outputs": [
    {
     "name": "stdout",
     "output_type": "stream",
     "text": [
      "Zero\n"
     ]
    }
   ],
   "source": [
    "#Positive or Negative number:\n",
    "\n",
    "\n",
    "\"\"\"\n",
    "generally we can do these with many method some are following\n",
    "1.brute force : checking all possible conditions\n",
    "2.using nested if else\n",
    "3.using ternery operators\n",
    "\n",
    " \"\"\"\n",
    "\n",
    "num = int(input(\"enter the number u want : \"))\n",
    "\"\"\"\n",
    "    this 1 st method\n",
    "    \n",
    "if num > 0:\n",
    "    print( \"positive\")\n",
    "elif num<0 :\n",
    "    print( \"negative\")\n",
    "else:\n",
    "    print( \"Zero\")\n",
    "\"\"\"\n",
    "\"\"\"\n",
    "this nested if else method\n",
    "\n",
    "if num>=0:\n",
    "    if num==0:\n",
    "        print('Zero')\n",
    "    else:\n",
    "        print(\"Positive\")\n",
    "else:\n",
    "    print(\"Negative\")\n",
    "\n",
    "\n",
    "\"\"\""
   ]
  },
  {
   "cell_type": "code",
   "execution_count": 3,
   "metadata": {},
   "outputs": [
    {
     "name": "stdout",
     "output_type": "stream",
     "text": [
      "Even\n"
     ]
    }
   ],
   "source": [
    "#even or odd\n",
    "\n",
    "def even_odd(n):\n",
    "    if n%2 ==0:\n",
    "        print(\"Even\")\n",
    "    else:\n",
    "        print(\"odd\")\n",
    "\n",
    "even_odd(0)"
   ]
  },
  {
   "cell_type": "code",
   "execution_count": 6,
   "metadata": {},
   "outputs": [
    {
     "data": {
      "text/plain": [
       "6"
      ]
     },
     "execution_count": 6,
     "metadata": {},
     "output_type": "execute_result"
    }
   ],
   "source": [
    "#sum of first naturals numbers\n",
    "\n",
    "def sum_of_natural_numbers(n):\n",
    "    if n==1:\n",
    "        return 1\n",
    "    return n+sum_of_natural_numbers(n-1)\n",
    "\n",
    "sum_of_natural_numbers(3)\n",
    "\n",
    "\n"
   ]
  },
  {
   "cell_type": "code",
   "execution_count": 21,
   "metadata": {},
   "outputs": [
    {
     "name": "stdout",
     "output_type": "stream",
     "text": [
      "not leap year\n"
     ]
    }
   ],
   "source": [
    "#leaap year or not\n",
    "n =int(input())\n",
    "def leap(n):\n",
    "    if (n %4 ==0 )or (n %400==0 and n %100!=0):\n",
    "        print(\"leap\")\n",
    "    else:\n",
    "        print(\"not leap year\")\n",
    "\n",
    "leap(n)\n"
   ]
  },
  {
   "cell_type": "code",
   "execution_count": 29,
   "metadata": {},
   "outputs": [
    {
     "name": "stdout",
     "output_type": "stream",
     "text": [
      "not prime\n"
     ]
    }
   ],
   "source": [
    "#prime numbers checking\n",
    "\n",
    "def is_prime(N):\n",
    "    if N <= 1:  # Handle edge cases: 1 and numbers less than 1 are not prime\n",
    "        return False\n",
    "    if N <= 3:  # 2 and 3 are prime\n",
    "        return True\n",
    "    if N % 2 == 0 or N % 3 == 0:\n",
    "        return False\n",
    "\n",
    "    i = 5\n",
    "    while i * i <= N:\n",
    "        if N % i == 0 or N % (i + 2) == 0:\n",
    "            return False\n",
    "        i += 6\n",
    "\n",
    "    return True\n",
    "\n",
    "N = int(input())\n",
    "if is_prime(N):\n",
    "    print(\"prime\")\n",
    "else:\n",
    "    print(\"not prime\")\n",
    "\n"
   ]
  },
  {
   "cell_type": "code",
   "execution_count": 34,
   "metadata": {},
   "outputs": [
    {
     "data": {
      "text/plain": [
       "True"
      ]
     },
     "execution_count": 34,
     "metadata": {},
     "output_type": "execute_result"
    }
   ],
   "source": [
    "def is_prime(n):\n",
    "\n",
    "    if n<= 1:\n",
    "        return False\n",
    "    for divisor in range(2,int(n**0.5)+1):\n",
    "        if n % divisor ==0:\n",
    "            return False\n",
    "    return True\n",
    "\n",
    "is_prime(11)\n",
    "        "
   ]
  },
  {
   "cell_type": "code",
   "execution_count": 43,
   "metadata": {},
   "outputs": [
    {
     "name": "stdout",
     "output_type": "stream",
     "text": [
      "[2, 3, 5, 7]\n"
     ]
    }
   ],
   "source": [
    "#prime numbers in a given interval\n",
    "primes =[]\n",
    "start,end = 2,10\n",
    "\n",
    "for i in range(start,end +1):\n",
    "        flag =0\n",
    "\n",
    "        if i <2:\n",
    "            continue\n",
    "        if i==2:\n",
    "            primes.append(2)\n",
    "            continue\n",
    "\n",
    "        for x in range(2,i):\n",
    "            if i % x == 0:\n",
    "                  flag =1\n",
    "                  break\n",
    "\n",
    "        if flag ==0:\n",
    "               primes.append(i)\n",
    "\n",
    "print(primes)\n"
   ]
  },
  {
   "cell_type": "code",
   "execution_count": 47,
   "metadata": {},
   "outputs": [
    {
     "ename": "TypeError",
     "evalue": "can only concatenate list (not \"int\") to list",
     "output_type": "error",
     "traceback": [
      "\u001b[1;31m---------------------------------------------------------------------------\u001b[0m",
      "\u001b[1;31mTypeError\u001b[0m                                 Traceback (most recent call last)",
      "Cell \u001b[1;32mIn[47], line 11\u001b[0m\n\u001b[0;32m      9\u001b[0m \u001b[38;5;66;03m# Example usage:\u001b[39;00m\n\u001b[0;32m     10\u001b[0m start, end \u001b[38;5;241m=\u001b[39m \u001b[38;5;241m2\u001b[39m, \u001b[38;5;241m100\u001b[39m\n\u001b[1;32m---> 11\u001b[0m \u001b[38;5;28mprint\u001b[39m(\u001b[43mfind_primes\u001b[49m\u001b[43m(\u001b[49m\u001b[43mstart\u001b[49m\u001b[43m,\u001b[49m\u001b[43m \u001b[49m\u001b[43mend\u001b[49m\u001b[43m)\u001b[49m)\n",
      "Cell \u001b[1;32mIn[47], line 6\u001b[0m, in \u001b[0;36mfind_primes\u001b[1;34m(start, end)\u001b[0m\n\u001b[0;32m      4\u001b[0m     \u001b[38;5;28;01mif\u001b[39;00m i \u001b[38;5;241m>\u001b[39m \u001b[38;5;241m1\u001b[39m \u001b[38;5;129;01mand\u001b[39;00m \u001b[38;5;28mall\u001b[39m(i \u001b[38;5;241m%\u001b[39m x \u001b[38;5;241m!=\u001b[39m \u001b[38;5;241m0\u001b[39m \u001b[38;5;28;01mfor\u001b[39;00m x \u001b[38;5;129;01min\u001b[39;00m \u001b[38;5;28mrange\u001b[39m(\u001b[38;5;241m2\u001b[39m, \u001b[38;5;28mint\u001b[39m(i\u001b[38;5;241m*\u001b[39m\u001b[38;5;241m*\u001b[39m\u001b[38;5;241m0.5\u001b[39m) \u001b[38;5;241m+\u001b[39m \u001b[38;5;241m1\u001b[39m)):\n\u001b[0;32m      5\u001b[0m         primes\u001b[38;5;241m.\u001b[39mappend(i)\n\u001b[1;32m----> 6\u001b[0m         \u001b[38;5;28msum\u001b[39m\u001b[38;5;241m=\u001b[39m\u001b[43mprimes\u001b[49m\u001b[43m \u001b[49m\u001b[38;5;241;43m+\u001b[39;49m\u001b[43mi\u001b[49m\n\u001b[0;32m      7\u001b[0m \u001b[38;5;28;01mreturn\u001b[39;00m \u001b[38;5;28msum\u001b[39m\n",
      "\u001b[1;31mTypeError\u001b[0m: can only concatenate list (not \"int\") to list"
     ]
    }
   ],
   "source": [
    "def find_primes(start, end):\n",
    "    primes = []\n",
    "    for i in range(start, end + 1):\n",
    "        if i > 1 and all(i % x != 0 for x in range(2, int(i**0.5) + 1)):\n",
    "            primes.append(i)\n",
    "    return primes\n",
    "\n",
    "# Example usage:\n",
    "start, end = 2, 100\n",
    "print(find_primes(start, end))\n"
   ]
  },
  {
   "cell_type": "code",
   "execution_count": null,
   "metadata": {},
   "outputs": [],
   "source": []
  }
 ],
 "metadata": {
  "kernelspec": {
   "display_name": "Python 3",
   "language": "python",
   "name": "python3"
  },
  "language_info": {
   "codemirror_mode": {
    "name": "ipython",
    "version": 3
   },
   "file_extension": ".py",
   "mimetype": "text/x-python",
   "name": "python",
   "nbconvert_exporter": "python",
   "pygments_lexer": "ipython3",
   "version": "3.12.0"
  }
 },
 "nbformat": 4,
 "nbformat_minor": 2
}
